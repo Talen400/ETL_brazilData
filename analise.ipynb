{
 "cells": [
  {
   "cell_type": "code",
   "execution_count": 1,
   "metadata": {},
   "outputs": [],
   "source": [
    "import pandas as pd\n",
    "import re"
   ]
  },
  {
   "cell_type": "markdown",
   "metadata": {},
   "source": [
    "## Import data and extract (E)"
   ]
  },
  {
   "cell_type": "code",
   "execution_count": 2,
   "metadata": {},
   "outputs": [
    {
     "data": {
      "text/html": [
       "<div>\n",
       "<style scoped>\n",
       "    .dataframe tbody tr th:only-of-type {\n",
       "        vertical-align: middle;\n",
       "    }\n",
       "\n",
       "    .dataframe tbody tr th {\n",
       "        vertical-align: top;\n",
       "    }\n",
       "\n",
       "    .dataframe thead th {\n",
       "        text-align: right;\n",
       "    }\n",
       "</style>\n",
       "<table border=\"1\" class=\"dataframe\">\n",
       "  <thead>\n",
       "    <tr style=\"text-align: right;\">\n",
       "      <th></th>\n",
       "      <th>time</th>\n",
       "      <th>country</th>\n",
       "      <th>vehicle</th>\n",
       "      <th>metric_type</th>\n",
       "      <th>device</th>\n",
       "      <th>target_audience</th>\n",
       "      <th>metric_numbers</th>\n",
       "      <th>cost_usd</th>\n",
       "    </tr>\n",
       "  </thead>\n",
       "  <tbody>\n",
       "    <tr>\n",
       "      <th>0</th>\n",
       "      <td>13/01/2018</td>\n",
       "      <td>brazil</td>\n",
       "      <td>facebook</td>\n",
       "      <td>impressions</td>\n",
       "      <td>mobile</td>\n",
       "      <td>19-49</td>\n",
       "      <td>55150.0</td>\n",
       "      <td>188.730000</td>\n",
       "    </tr>\n",
       "    <tr>\n",
       "      <th>1</th>\n",
       "      <td>13/01/2018</td>\n",
       "      <td>brazil</td>\n",
       "      <td>facebook</td>\n",
       "      <td>impressions</td>\n",
       "      <td>mobile</td>\n",
       "      <td>19-49</td>\n",
       "      <td>1260949.0</td>\n",
       "      <td>2762.380000</td>\n",
       "    </tr>\n",
       "    <tr>\n",
       "      <th>2</th>\n",
       "      <td>13/01/2018</td>\n",
       "      <td>brazil</td>\n",
       "      <td>instagram</td>\n",
       "      <td>impressions</td>\n",
       "      <td>mobile</td>\n",
       "      <td>19-49</td>\n",
       "      <td>55524.0</td>\n",
       "      <td>117.430000</td>\n",
       "    </tr>\n",
       "    <tr>\n",
       "      <th>3</th>\n",
       "      <td>13/01/2018</td>\n",
       "      <td>brazil</td>\n",
       "      <td>instagram</td>\n",
       "      <td>impressions</td>\n",
       "      <td>mobile</td>\n",
       "      <td>19-49</td>\n",
       "      <td>276979.0</td>\n",
       "      <td>2037.620000</td>\n",
       "    </tr>\n",
       "    <tr>\n",
       "      <th>4</th>\n",
       "      <td>20/01/2018</td>\n",
       "      <td>brazil</td>\n",
       "      <td>facebook</td>\n",
       "      <td>impressions</td>\n",
       "      <td>mobile</td>\n",
       "      <td>19-49</td>\n",
       "      <td>44897.0</td>\n",
       "      <td>122.550000</td>\n",
       "    </tr>\n",
       "    <tr>\n",
       "      <th>...</th>\n",
       "      <td>...</td>\n",
       "      <td>...</td>\n",
       "      <td>...</td>\n",
       "      <td>...</td>\n",
       "      <td>...</td>\n",
       "      <td>...</td>\n",
       "      <td>...</td>\n",
       "      <td>...</td>\n",
       "    </tr>\n",
       "    <tr>\n",
       "      <th>60845</th>\n",
       "      <td>29/06/2024</td>\n",
       "      <td>brazil</td>\n",
       "      <td>instagram</td>\n",
       "      <td>impressions</td>\n",
       "      <td>mobile_app</td>\n",
       "      <td>not_available</td>\n",
       "      <td>73856.0</td>\n",
       "      <td>138.433053</td>\n",
       "    </tr>\n",
       "    <tr>\n",
       "      <th>60846</th>\n",
       "      <td>29/06/2024</td>\n",
       "      <td>brazil</td>\n",
       "      <td>instagram</td>\n",
       "      <td>impressions</td>\n",
       "      <td>mobile_app</td>\n",
       "      <td>not_available</td>\n",
       "      <td>13834.0</td>\n",
       "      <td>23.116623</td>\n",
       "    </tr>\n",
       "    <tr>\n",
       "      <th>60847</th>\n",
       "      <td>29/06/2024</td>\n",
       "      <td>brazil</td>\n",
       "      <td>instagram</td>\n",
       "      <td>impressions</td>\n",
       "      <td>mobile_app</td>\n",
       "      <td>not_available</td>\n",
       "      <td>154523.0</td>\n",
       "      <td>297.399275</td>\n",
       "    </tr>\n",
       "    <tr>\n",
       "      <th>60848</th>\n",
       "      <td>29/06/2024</td>\n",
       "      <td>brazil</td>\n",
       "      <td>instagram</td>\n",
       "      <td>impressions</td>\n",
       "      <td>mobile_app</td>\n",
       "      <td>not_available</td>\n",
       "      <td>37229.0</td>\n",
       "      <td>467.654870</td>\n",
       "    </tr>\n",
       "    <tr>\n",
       "      <th>60849</th>\n",
       "      <td>29/06/2024</td>\n",
       "      <td>brazil</td>\n",
       "      <td>instagram</td>\n",
       "      <td>impressions</td>\n",
       "      <td>mobile_app</td>\n",
       "      <td>not_available</td>\n",
       "      <td>270692.0</td>\n",
       "      <td>555.153526</td>\n",
       "    </tr>\n",
       "  </tbody>\n",
       "</table>\n",
       "<p>60850 rows × 8 columns</p>\n",
       "</div>"
      ],
      "text/plain": [
       "             time country    vehicle  metric_type      device target_audience  \\\n",
       "0      13/01/2018  brazil   facebook  impressions      mobile           19-49   \n",
       "1      13/01/2018  brazil   facebook  impressions      mobile           19-49   \n",
       "2      13/01/2018  brazil  instagram  impressions      mobile           19-49   \n",
       "3      13/01/2018  brazil  instagram  impressions      mobile           19-49   \n",
       "4      20/01/2018  brazil   facebook  impressions      mobile           19-49   \n",
       "...           ...     ...        ...          ...         ...             ...   \n",
       "60845  29/06/2024  brazil  instagram  impressions  mobile_app   not_available   \n",
       "60846  29/06/2024  brazil  instagram  impressions  mobile_app   not_available   \n",
       "60847  29/06/2024  brazil  instagram  impressions  mobile_app   not_available   \n",
       "60848  29/06/2024  brazil  instagram  impressions  mobile_app   not_available   \n",
       "60849  29/06/2024  brazil  instagram  impressions  mobile_app   not_available   \n",
       "\n",
       "       metric_numbers     cost_usd  \n",
       "0             55150.0   188.730000  \n",
       "1           1260949.0  2762.380000  \n",
       "2             55524.0   117.430000  \n",
       "3            276979.0  2037.620000  \n",
       "4             44897.0   122.550000  \n",
       "...               ...          ...  \n",
       "60845         73856.0   138.433053  \n",
       "60846         13834.0    23.116623  \n",
       "60847        154523.0   297.399275  \n",
       "60848         37229.0   467.654870  \n",
       "60849        270692.0   555.153526  \n",
       "\n",
       "[60850 rows x 8 columns]"
      ]
     },
     "execution_count": 2,
     "metadata": {},
     "output_type": "execute_result"
    }
   ],
   "source": [
    "df = pd.read_csv('data/brazil_example.csv')\n",
    "df"
   ]
  },
  {
   "cell_type": "code",
   "execution_count": 3,
   "metadata": {},
   "outputs": [
    {
     "data": {
      "text/plain": [
       "array(['facebook', 'instagram', 'ooh', 'tv', 'youtube', 'digitalvideo',\n",
       "       'digitaldisplayandsearch', 'cinema', 'twitter', 'print',\n",
       "       'programmaticvideo', 'programmaticdisplay', 'influencer',\n",
       "       'partnership', 'netflix', 'dooh', 'otherdigital', 'tvsub'],\n",
       "      dtype=object)"
      ]
     },
     "execution_count": 3,
     "metadata": {},
     "output_type": "execute_result"
    }
   ],
   "source": [
    "df['vehicle'].unique()"
   ]
  },
  {
   "cell_type": "code",
   "execution_count": 4,
   "metadata": {},
   "outputs": [
    {
     "data": {
      "text/plain": [
       "array(['impressions', 'grp', 'spend', 'followers', 'net grp', 'views',\n",
       "       'ratings', 'view', 'engagement', 'insertion'], dtype=object)"
      ]
     },
     "execution_count": 4,
     "metadata": {},
     "output_type": "execute_result"
    }
   ],
   "source": [
    "df['metric_type'].unique()"
   ]
  },
  {
   "cell_type": "code",
   "execution_count": 5,
   "metadata": {},
   "outputs": [
    {
     "data": {
      "text/plain": [
       "array(['mobile', 'no_device', 'desktop', 'multiscreen', 'not_available',\n",
       "       'mobile app', 'mobile web', 'tv', 'dooh', 'cross device',\n",
       "       'mobile_app', 'mobile_web', 'desktop_feed', 'desktop_video'],\n",
       "      dtype=object)"
      ]
     },
     "execution_count": 5,
     "metadata": {},
     "output_type": "execute_result"
    }
   ],
   "source": [
    "df['device'].unique()"
   ]
  },
  {
   "cell_type": "code",
   "execution_count": 6,
   "metadata": {},
   "outputs": [
    {
     "data": {
      "text/plain": [
       "array(['19-49', 'not_available', '19-39', '19-34', '19-44', '20-39',\n",
       "       '19+', '21-39', '19-25', '21+', '19-65', '21-34', '18-44', '20-49',\n",
       "       '25-49', '25-44', '30-49', '21-49', '18-34', '35-44', '18-54',\n",
       "       '18+', '19-59', '21-54', '19-54', '19-29', '-',\n",
       "       '19-59 & behavioral/interest', '19-39 & behavioral/interest',\n",
       "       '21-100', '18-54 & behavioral/interest', '20-59',\n",
       "       '20-59 & behavioral/interest', '19-59 & retargeting',\n",
       "       '20-59 & retargeting', '21-54 & behavioral/interest',\n",
       "       'adults 19-39', 'adults 40-59', 'adults 19-59',\n",
       "       'ages 25-44 drinkers', 'ages 18-44 drinkers',\n",
       "       'ages 18-34 drinkers', 'age 18+ drinkers', 'adults 19-49',\n",
       "       'adults 40-49'], dtype=object)"
      ]
     },
     "execution_count": 6,
     "metadata": {},
     "output_type": "execute_result"
    }
   ],
   "source": [
    "df['target_audience'].unique()"
   ]
  },
  {
   "cell_type": "markdown",
   "metadata": {},
   "source": [
    "## Tratament of datas and transformation (T)"
   ]
  },
  {
   "cell_type": "code",
   "execution_count": 7,
   "metadata": {},
   "outputs": [
    {
     "data": {
      "text/plain": [
       "array(['+18', 'not_available', 'retargeting'], dtype=object)"
      ]
     },
     "execution_count": 7,
     "metadata": {},
     "output_type": "execute_result"
    }
   ],
   "source": [
    "df_target = df.copy()\n",
    "\n",
    "def transform_XX_XX_to_18(age_range):\n",
    "    \"\"\"\n",
    "    +18 : all drinkers +18\n",
    "    not_availble : not possible available\n",
    "    retargeting : behavioral/interest retargeting\n",
    "    \"\"\"\n",
    "    # \"XX-XX\"\n",
    "    if re.match(r'^\\d{2}-\\d{2,3}$', age_range):\n",
    "        return \"+18\"  \n",
    "    #\"XX-XX\" em \"+18\"\n",
    "    if re.match(r'^\\d{2}\\+$', age_range):\n",
    "        return \"+18\"\n",
    "    # \"adults XX-XX\", \"ages XX-XX drinkers\"\n",
    "    if re.search(r'(adults|ages)\\s\\d{2}-\\d{2}', age_range, re.IGNORECASE):\n",
    "        return \"+18\"\n",
    "    if age_range == 'age 18+ drinkers':\n",
    "        return \"+18\"\n",
    "    if age_range == '-' :\n",
    "        return \"not_available\"\n",
    "    if \"behavioral/interest\" in age_range or \"retargeting\" in age_range:\n",
    "        return \"retargeting\"\n",
    "\n",
    "    return age_range\n",
    "\n",
    "\n",
    "df_target['target_audience'] = df_target['target_audience'].apply(transform_XX_XX_to_18)\n",
    "\n",
    "\n",
    "df_target['target_audience'].unique()"
   ]
  },
  {
   "cell_type": "code",
   "execution_count": 8,
   "metadata": {},
   "outputs": [
    {
     "data": {
      "text/plain": [
       "array(['mobile app', 'not available', 'desktop', 'multiscreen', 'web',\n",
       "       'tv', 'dooh', 'cross device'], dtype=object)"
      ]
     },
     "execution_count": 8,
     "metadata": {},
     "output_type": "execute_result"
    }
   ],
   "source": [
    "df_target_device = df_target.copy()\n",
    "\n",
    "def transform_device(device):\n",
    "    \"\"\"\n",
    "    mobile : all mobile variants\n",
    "    desktop : all desktop variants \n",
    "    web : all web variants\n",
    "    not available : all no available variants\n",
    "    \"\"\"\n",
    "    mobile_variants = [\"mobile\", \"mobile_app\", \"mobile app\"]\n",
    "    desktop_variants = [\"desktop\", \"desktop_video\", \"desktop_feed\"]\n",
    "    web_variants = [\"mobile_web\", \"mobile web\"]\n",
    "    no_available_variants = [\"no_device\", \"not_available\"]\n",
    "    \n",
    "    if device in mobile_variants:\n",
    "        return \"mobile app\"\n",
    "    if device in desktop_variants:\n",
    "        return \"desktop\"\n",
    "    if device in web_variants:\n",
    "        return \"web\"\n",
    "    if device in no_available_variants:\n",
    "        return \"not available\"\n",
    "    return device\n",
    "\n",
    "df_target_device[\"device\"] = df_target_device[\"device\"].apply(transform_device)\n",
    "df_target_device[\"device\"].unique()"
   ]
  },
  {
   "cell_type": "code",
   "execution_count": 9,
   "metadata": {},
   "outputs": [
    {
     "data": {
      "text/plain": [
       "array(['impressions', 'grp', 'spend', 'followers', 'net grp', 'view',\n",
       "       'ratings', 'engagement', 'insertion'], dtype=object)"
      ]
     },
     "execution_count": 9,
     "metadata": {},
     "output_type": "execute_result"
    }
   ],
   "source": [
    "df_target_device_metric = df_target_device.copy()\n",
    "\n",
    "def transform_metric(metric):\n",
    "    \"\"\"\n",
    "    viewws : all views variants\n",
    "    \"\"\"\n",
    "    views_variants = [\"views\", \"view\"]\n",
    "    if metric in views_variants:\n",
    "        return \"view\"\n",
    "    return metric\n",
    "\n",
    "df_target_device_metric[\"metric_type\"] = df_target_device_metric[\"metric_type\"].apply(transform_metric)\n",
    "df_target_device_metric[\"metric_type\"].unique()"
   ]
  },
  {
   "cell_type": "markdown",
   "metadata": {},
   "source": [
    "## Load of data to file .csv"
   ]
  },
  {
   "cell_type": "code",
   "execution_count": 11,
   "metadata": {},
   "outputs": [],
   "source": [
    "df_target_device_metric.to_csv(\"data_result.csv\")"
   ]
  }
 ],
 "metadata": {
  "kernelspec": {
   "display_name": ".venv",
   "language": "python",
   "name": "python3"
  },
  "language_info": {
   "codemirror_mode": {
    "name": "ipython",
    "version": 3
   },
   "file_extension": ".py",
   "mimetype": "text/x-python",
   "name": "python",
   "nbconvert_exporter": "python",
   "pygments_lexer": "ipython3",
   "version": "3.12.2"
  }
 },
 "nbformat": 4,
 "nbformat_minor": 2
}
